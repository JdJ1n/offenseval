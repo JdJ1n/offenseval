{
  "nbformat": 4,
  "nbformat_minor": 0,
  "metadata": {
    "colab": {
      "provenance": [],
      "collapsed_sections": [
        "p0Xe1xbGkrLU",
        "vQ_1HxhklyFF",
        "-GRp8Nqg1DmU"
      ],
      "include_colab_link": true
    },
    "kernelspec": {
      "name": "python3",
      "display_name": "Python 3"
    }
  },
  "cells": [
    {
      "cell_type": "markdown",
      "metadata": {
        "id": "view-in-github",
        "colab_type": "text"
      },
      "source": [
        "<a href=\"https://colab.research.google.com/github/JdJ1n/offenseval/blob/master/offenseval.ipynb\" target=\"_parent\"><img src=\"https://colab.research.google.com/assets/colab-badge.svg\" alt=\"Open In Colab\"/></a>"
      ]
    },
    {
      "metadata": {
        "id": "SPWG_BxYb8tW"
      },
      "cell_type": "markdown",
      "source": [
        "## Cloning to download classes"
      ]
    },
    {
      "metadata": {
        "id": "s1T3tl8ipn6l",
        "colab": {
          "base_uri": "https://localhost:8080/"
        },
        "outputId": "6e24dbdb-78bc-4e71-cf9f-05a79b23544b"
      },
      "cell_type": "code",
      "source": [
        "!git clone https://github.com/JdJ1n/offenseval.git\n",
        "%cd offenseval\n",
        "%matplotlib inline"
      ],
      "execution_count": 1,
      "outputs": [
        {
          "output_type": "stream",
          "name": "stdout",
          "text": [
            "Cloning into 'offenseval'...\n",
            "remote: Enumerating objects: 337, done.\u001b[K\n",
            "remote: Counting objects: 100% (43/43), done.\u001b[K\n",
            "remote: Compressing objects: 100% (43/43), done.\u001b[K\n",
            "remote: Total 337 (delta 20), reused 0 (delta 0), pack-reused 294\u001b[K\n",
            "Receiving objects: 100% (337/337), 62.49 MiB | 9.89 MiB/s, done.\n",
            "Resolving deltas: 100% (165/165), done.\n",
            "/content/offenseval\n"
          ]
        }
      ]
    },
    {
      "metadata": {
        "id": "ve5Rv-1qbn-s"
      },
      "cell_type": "markdown",
      "source": [
        "## Imports"
      ]
    },
    {
      "metadata": {
        "id": "gourfMtuqQpn",
        "colab": {
          "base_uri": "https://localhost:8080/"
        },
        "outputId": "7231a89b-866b-4a7e-c741-e591d2c60638"
      },
      "cell_type": "code",
      "source": [
        "import nltk\n",
        "nltk.download(['stopwords','punkt','wordnet','averaged_perceptron_tagger'])"
      ],
      "execution_count": 2,
      "outputs": [
        {
          "output_type": "stream",
          "name": "stderr",
          "text": [
            "[nltk_data] Downloading package stopwords to /root/nltk_data...\n",
            "[nltk_data]   Unzipping corpora/stopwords.zip.\n",
            "[nltk_data] Downloading package punkt to /root/nltk_data...\n",
            "[nltk_data]   Unzipping tokenizers/punkt.zip.\n",
            "[nltk_data] Downloading package wordnet to /root/nltk_data...\n",
            "[nltk_data] Downloading package averaged_perceptron_tagger to\n",
            "[nltk_data]     /root/nltk_data...\n",
            "[nltk_data]   Unzipping taggers/averaged_perceptron_tagger.zip.\n"
          ]
        },
        {
          "output_type": "execute_result",
          "data": {
            "text/plain": [
              "True"
            ]
          },
          "metadata": {},
          "execution_count": 2
        }
      ]
    },
    {
      "metadata": {
        "id": "--LyPKw5sbCP"
      },
      "cell_type": "code",
      "source": [
        "from DataReader import DataReader\n",
        "from Preprocessor import Preprocessor\n",
        "from Vectorizer import Vectorizer\n",
        "from Classifier import Classifier\n",
        "from DeepLearning import DeepLearner\n",
        "from sklearn.model_selection import train_test_split as split\n",
        "import numpy as np"
      ],
      "execution_count": 3,
      "outputs": []
    },
    {
      "metadata": {
        "id": "wm9C_I7akuZ-"
      },
      "cell_type": "markdown",
      "source": [
        "# Subtask A"
      ]
    },
    {
      "metadata": {
        "id": "KC-eY0hnbp42"
      },
      "cell_type": "markdown",
      "source": [
        "## Reading data and splitting"
      ]
    },
    {
      "metadata": {
        "id": "0LJucFgpKJzH",
        "colab": {
          "base_uri": "https://localhost:8080/"
        },
        "outputId": "91c99eed-264b-459b-df9c-33b1c596e3f9"
      },
      "cell_type": "code",
      "source": [
        "dr = DataReader('./datasets/training-v1/offenseval-training-v1.tsv','A')\n",
        "data,labels = dr.get_labelled_data()\n",
        "data,labels = dr.shuffle(data,labels,'random')\n",
        "\n",
        "tr_data,tst_data,tr_labels,tst_labels = split(data,labels,test_size=0.3)"
      ],
      "execution_count": 4,
      "outputs": [
        {
          "output_type": "stream",
          "name": "stderr",
          "text": [
            "Reading Data: 448it [00:00, 130055.94it/s]\n"
          ]
        }
      ]
    },
    {
      "metadata": {
        "id": "9PxM1EZCbt5o"
      },
      "cell_type": "markdown",
      "source": [
        "## Initializing objects"
      ]
    },
    {
      "metadata": {
        "id": "fPejHCDkKNRK"
      },
      "cell_type": "code",
      "source": [
        "preprocessors = [('remove_stopwords','lemmatize'),('lemmatize'),('remove_stopwords','lemmatize'),\n",
        "        ('remove_stopwords','stem'),('remove_stopwords','lemmatize'),\n",
        "        ('remove_stopwords','lemmatize'),('remove_stopwords')]\n",
        "\n",
        "vectorizers = ['count','count','count','count','tfidf','tfidf']\n",
        "\n",
        "classifiers = [\n",
        "    ('Dummy', {'strategy':'uniform'}),\n",
        "    ('M-NaiveBayes', {'alpha':5, 'fit_prior':True}),\n",
        "    ('DecisionTree', {'criterion':'gini', 'max_depth':10, 'min_samples_split':2}),\n",
        "    ('RandomForest', {'n_estimators':30}),\n",
        "    ('SVC', {'C':3, 'kernel':'rbf'}),\n",
        "    ('MLP', {'hidden_layer_sizes':(100,), 'activation':'relu', 'solver':'adam'})\n",
        "]\n",
        "\n",
        "for i in range(len(vectorizers)):\n",
        "  preprocessors[i] = Preprocessor(preprocessors[i])\n",
        "  vectorizers[i] = Vectorizer(vectorizers[i])\n",
        "  classifiers[i] = Classifier(*classifiers[i])"
      ],
      "execution_count": 5,
      "outputs": []
    },
    {
      "metadata": {
        "id": "kvRlJnTZb0Ag"
      },
      "cell_type": "markdown",
      "source": [
        "## Training classifiers"
      ]
    },
    {
      "metadata": {
        "id": "TeVz8vG3NeJN",
        "colab": {
          "base_uri": "https://localhost:8080/"
        },
        "outputId": "fdb2f38e-d598-4648-bd18-72a96b7b7199"
      },
      "cell_type": "code",
      "source": [
        "tst_vecs = []\n",
        "tr_vecs = []\n",
        "for i in range(len(classifiers)):\n",
        "  tr_data_clean = preprocessors[i].clean(tr_data)\n",
        "  tst_data_clean = preprocessors[i].clean(tst_data)\n",
        "\n",
        "  tr_vecs.append(vectorizers[i].vectorize(tr_data_clean))\n",
        "  tst_vecs.append(vectorizers[i].vectorize(tst_data_clean))\n",
        "\n",
        "  classifiers[i].fit(tr_vecs[i],tr_labels)"
      ],
      "execution_count": 6,
      "outputs": [
        {
          "output_type": "stream",
          "name": "stderr",
          "text": [
            "Preprocessing:   0%|          | 0/3 [00:00<?, ?it/s]\n",
            "Tokenization: 312it [00:00, 3178.38it/s]\n",
            "Preprocessing:  33%|███▎      | 1/3 [00:00<00:00,  9.29it/s]\n",
            "Stopwords Removal: 312it [00:00, 24390.03it/s]\n",
            "\n",
            "Lemmatization: 0it [00:00, ?it/s]\u001b[A\n",
            "Lemmatization: 1it [00:01,  1.77s/it]\u001b[A\n",
            "Lemmatization: 48it [00:01, 35.51it/s]\u001b[A\n",
            "Lemmatization: 109it [00:01, 90.63it/s]\u001b[A\n",
            "Lemmatization: 170it [00:02, 153.19it/s]\u001b[A\n",
            "Lemmatization: 234it [00:02, 224.54it/s]\u001b[A\n",
            "Lemmatization: 312it [00:02, 134.43it/s]\n",
            "Preprocessing: 100%|██████████| 3/3 [00:02<00:00,  1.22it/s]\n",
            "Preprocessing:   0%|          | 0/3 [00:00<?, ?it/s]\n",
            "Tokenization: 135it [00:00, 3033.72it/s]\n",
            "\n",
            "Stopwords Removal: 135it [00:00, 32512.12it/s]\n",
            "\n",
            "Lemmatization: 0it [00:00, ?it/s]\u001b[A\n",
            "Lemmatization: 56it [00:00, 552.49it/s]\u001b[A\n",
            "Lemmatization: 135it [00:00, 556.22it/s]\n",
            "Preprocessing: 100%|██████████| 3/3 [00:00<00:00,  9.28it/s]\n",
            "Preprocessing:   0%|          | 0/2 [00:00<?, ?it/s]\n",
            "Tokenization: 312it [00:00, 3161.35it/s]\n",
            "Preprocessing:  50%|█████     | 1/2 [00:00<00:00,  8.82it/s]\n",
            "Lemmatization: 0it [00:00, ?it/s]\u001b[A\n",
            "Lemmatization: 19it [00:00, 189.43it/s]\u001b[A\n",
            "Lemmatization: 44it [00:00, 222.59it/s]\u001b[A\n",
            "Lemmatization: 70it [00:00, 237.33it/s]\u001b[A\n",
            "Lemmatization: 96it [00:00, 245.20it/s]\u001b[A\n",
            "Lemmatization: 121it [00:00, 233.02it/s]\u001b[A\n",
            "Lemmatization: 145it [00:00, 207.97it/s]\u001b[A\n",
            "Lemmatization: 176it [00:00, 236.79it/s]\u001b[A\n",
            "Lemmatization: 206it [00:00, 255.05it/s]\u001b[A\n",
            "Lemmatization: 235it [00:00, 265.32it/s]\u001b[A\n",
            "Lemmatization: 262it [00:01, 260.25it/s]\u001b[A\n",
            "Lemmatization: 312it [00:01, 246.12it/s]\n",
            "Preprocessing: 100%|██████████| 2/2 [00:01<00:00,  1.43it/s]\n",
            "Preprocessing:   0%|          | 0/2 [00:00<?, ?it/s]\n",
            "Tokenization: 135it [00:00, 2680.45it/s]\n",
            "\n",
            "Lemmatization: 0it [00:00, ?it/s]\u001b[A\n",
            "Lemmatization: 31it [00:00, 298.32it/s]\u001b[A\n",
            "Lemmatization: 61it [00:00, 228.43it/s]\u001b[A\n",
            "Lemmatization: 89it [00:00, 247.24it/s]\u001b[A\n",
            "Lemmatization: 135it [00:00, 255.87it/s]\n",
            "Preprocessing: 100%|██████████| 2/2 [00:00<00:00,  3.32it/s]\n",
            "Preprocessing:   0%|          | 0/3 [00:00<?, ?it/s]\n",
            "Tokenization: 312it [00:00, 3467.36it/s]\n",
            "Preprocessing:  33%|███▎      | 1/3 [00:00<00:00,  9.93it/s]\n",
            "Stopwords Removal: 312it [00:00, 30503.32it/s]\n",
            "\n",
            "Lemmatization: 0it [00:00, ?it/s]\u001b[A\n",
            "Lemmatization: 39it [00:00, 388.19it/s]\u001b[A\n",
            "Lemmatization: 98it [00:00, 504.29it/s]\u001b[A\n",
            "Lemmatization: 149it [00:00, 505.38it/s]\u001b[A\n",
            "Lemmatization: 212it [00:00, 549.51it/s]\u001b[A\n",
            "Lemmatization: 312it [00:00, 548.83it/s]\n",
            "Preprocessing: 100%|██████████| 3/3 [00:00<00:00,  4.25it/s]\n",
            "Preprocessing:   0%|          | 0/3 [00:00<?, ?it/s]\n",
            "Tokenization: 135it [00:00, 3056.73it/s]\n",
            "\n",
            "Stopwords Removal: 135it [00:00, 17229.52it/s]\n",
            "\n",
            "Lemmatization: 0it [00:00, ?it/s]\u001b[A\n",
            "Lemmatization: 53it [00:00, 529.35it/s]\u001b[A\n",
            "Lemmatization: 135it [00:00, 541.91it/s]\n",
            "Preprocessing: 100%|██████████| 3/3 [00:00<00:00,  8.97it/s]\n",
            "Preprocessing:   0%|          | 0/3 [00:00<?, ?it/s]\n",
            "Tokenization: 0it [00:00, ?it/s]\u001b[A\n",
            "Tokenization: 312it [00:00, 2685.98it/s]\n",
            "Preprocessing:  33%|███▎      | 1/3 [00:00<00:00,  8.05it/s]\n",
            "Stopwords Removal: 312it [00:00, 27193.86it/s]\n",
            "\n",
            "Stemming: 312it [00:00, 4032.13it/s]\n",
            "Preprocessing: 100%|██████████| 3/3 [00:00<00:00, 12.63it/s]\n",
            "Preprocessing:   0%|          | 0/3 [00:00<?, ?it/s]\n",
            "Tokenization: 135it [00:00, 2895.26it/s]\n",
            "\n",
            "Stopwords Removal: 135it [00:00, 20755.51it/s]\n",
            "\n",
            "Stemming: 135it [00:00, 3482.38it/s]\n",
            "Preprocessing: 100%|██████████| 3/3 [00:00<00:00, 23.92it/s]\n",
            "Preprocessing:   0%|          | 0/3 [00:00<?, ?it/s]\n",
            "Tokenization: 312it [00:00, 3460.15it/s]\n",
            "Preprocessing:  33%|███▎      | 1/3 [00:00<00:00,  9.89it/s]\n",
            "Stopwords Removal: 312it [00:00, 26232.27it/s]\n",
            "\n",
            "Lemmatization: 0it [00:00, ?it/s]\u001b[A\n",
            "Lemmatization: 48it [00:00, 476.28it/s]\u001b[A\n",
            "Lemmatization: 106it [00:00, 530.48it/s]\u001b[A\n",
            "Lemmatization: 167it [00:00, 560.30it/s]\u001b[A\n",
            "Lemmatization: 229it [00:00, 582.54it/s]\u001b[A\n",
            "Lemmatization: 312it [00:00, 554.32it/s]\n",
            "Preprocessing: 100%|██████████| 3/3 [00:00<00:00,  4.26it/s]\n",
            "Preprocessing:   0%|          | 0/3 [00:00<?, ?it/s]\n",
            "Tokenization: 135it [00:00, 2399.43it/s]\n",
            "\n",
            "Stopwords Removal: 135it [00:00, 22199.04it/s]\n",
            "\n",
            "Lemmatization: 0it [00:00, ?it/s]\u001b[A\n",
            "Lemmatization: 54it [00:00, 539.01it/s]\u001b[A\n",
            "Lemmatization: 135it [00:00, 556.82it/s]\n",
            "Preprocessing: 100%|██████████| 3/3 [00:00<00:00,  9.02it/s]\n",
            "Preprocessing:   0%|          | 0/3 [00:00<?, ?it/s]\n",
            "Tokenization: 312it [00:00, 3475.66it/s]\n",
            "\n",
            "Stopwords Removal: 312it [00:00, 27111.04it/s]\n",
            "Preprocessing:  67%|██████▋   | 2/3 [00:00<00:00, 16.05it/s]\n",
            "Lemmatization: 0it [00:00, ?it/s]\u001b[A\n",
            "Lemmatization: 47it [00:00, 465.76it/s]\u001b[A\n",
            "Lemmatization: 106it [00:00, 532.12it/s]\u001b[A\n",
            "Lemmatization: 167it [00:00, 560.97it/s]\u001b[A\n",
            "Lemmatization: 224it [00:00, 547.36it/s]\u001b[A\n",
            "Lemmatization: 312it [00:00, 552.51it/s]\n",
            "Preprocessing: 100%|██████████| 3/3 [00:00<00:00,  4.28it/s]\n",
            "Preprocessing:   0%|          | 0/3 [00:00<?, ?it/s]\n",
            "Tokenization: 135it [00:00, 2944.64it/s]\n",
            "\n",
            "Stopwords Removal: 135it [00:00, 19504.36it/s]\n",
            "\n",
            "Lemmatization: 0it [00:00, ?it/s]\u001b[A\n",
            "Lemmatization: 58it [00:00, 565.11it/s]\u001b[A\n",
            "Lemmatization: 135it [00:00, 562.83it/s]\n",
            "Preprocessing: 100%|██████████| 3/3 [00:00<00:00,  9.33it/s]\n"
          ]
        }
      ]
    },
    {
      "metadata": {
        "id": "AR6ebE9yb3FP"
      },
      "cell_type": "markdown",
      "source": [
        "## Testing and plotting"
      ]
    },
    {
      "metadata": {
        "id": "9C4UQT0JRqrk",
        "colab": {
          "base_uri": "https://localhost:8080/",
          "height": 1000
        },
        "outputId": "0a66abb5-97ae-441c-f2ca-de8fe20c1146"
      },
      "cell_type": "code",
      "source": [
        "accs = []\n",
        "for i,clf in enumerate(classifiers):\n",
        "  acc = clf.test_and_plot(tst_vecs[i],tst_labels,class_num=2)\n",
        "  print(acc,clf.classifier,clf.params)\n",
        "  accs.append(acc)\n",
        "\n",
        "accs"
      ],
      "execution_count": 7,
      "outputs": [
        {
          "output_type": "display_data",
          "data": {
            "text/plain": [
              "<Figure size 640x480 with 2 Axes>"
            ],
            "image/png": "[encoded data removed]"
          },
          "metadata": {}
        },
        {
          "output_type": "stream",
          "name": "stdout",
          "text": [
            "0.5185185185185185 <class 'sklearn.dummy.DummyClassifier'> {'strategy': 'uniform'}\n"
          ]
        },
        {
          "output_type": "display_data",
          "data": {
            "text/plain": [
              "<Figure size 640x480 with 2 Axes>"
            ],
            "image/png": "[encoded data removed]"
          },
          "metadata": {}
        },
        {
          "output_type": "stream",
          "name": "stdout",
          "text": [
            "0.7185185185185186 <class 'sklearn.naive_bayes.MultinomialNB'> {'alpha': 5, 'fit_prior': True}\n"
          ]
        },
        {
          "output_type": "display_data",
          "data": {
            "text/plain": [
              "<Figure size 640x480 with 2 Axes>"
            ],
            "image/png": "[encoded data removed]"
          },
          "metadata": {}
        },
        {
          "output_type": "stream",
          "name": "stdout",
          "text": [
            "0.7037037037037037 <class 'sklearn.tree._classes.DecisionTreeClassifier'> {'criterion': 'gini', 'max_depth': 10, 'min_samples_split': 2}\n"
          ]
        },
        {
          "output_type": "display_data",
          "data": {
            "text/plain": [
              "<Figure size 640x480 with 2 Axes>"
            ],
            "image/png": "[encoded data removed]"
          },
          "metadata": {}
        },
        {
          "output_type": "stream",
          "name": "stdout",
          "text": [
            "0.7407407407407407 <class 'sklearn.ensemble._forest.RandomForestClassifier'> {'n_estimators': 30}\n"
          ]
        },
        {
          "output_type": "display_data",
          "data": {
            "text/plain": [
              "<Figure size 640x480 with 2 Axes>"
            ],
            "image/png": "[encoded data removed]"
          },
          "metadata": {}
        },
        {
          "output_type": "stream",
          "name": "stdout",
          "text": [
            "0.7333333333333333 <class 'sklearn.svm._classes.SVC'> {'C': 3, 'kernel': 'rbf'}\n"
          ]
        },
        {
          "output_type": "display_data",
          "data": {
            "text/plain": [
              "<Figure size 640x480 with 2 Axes>"
            ],
            "image/png": "[encoded data removed]"
          },
          "metadata": {}
        },
        {
          "output_type": "stream",
          "name": "stdout",
          "text": [
            "0.6962962962962963 <class 'sklearn.neural_network._multilayer_perceptron.MLPClassifier'> {'hidden_layer_sizes': (100,), 'activation': 'relu', 'solver': 'adam'}\n"
          ]
        },
        {
          "output_type": "execute_result",
          "data": {
            "text/plain": [
              "[0.5185185185185185,\n",
              " 0.7185185185185186,\n",
              " 0.7037037037037037,\n",
              " 0.7407407407407407,\n",
              " 0.7333333333333333,\n",
              " 0.6962962962962963]"
            ]
          },
          "metadata": {},
          "execution_count": 7
        }
      ]
    },
    {
      "metadata": {
        "id": "p0Xe1xbGkrLU"
      },
      "cell_type": "markdown",
      "source": [
        "# Subtask B"
      ]
    },
    {
      "metadata": {
        "id": "wMvWK7vRkz2K"
      },
      "cell_type": "markdown",
      "source": [
        "## Reading data and splitting"
      ]
    },
    {
      "metadata": {
        "outputId": "cde11448-7a22-40e0-86e9-029c1b9fd330",
        "id": "RgMwPKljkz2L",
        "colab": {
          "base_uri": "https://localhost:8080/",
          "height": 34
        }
      },
      "cell_type": "code",
      "source": [
        "dr_b = DataReader('./datasets/training-v1/offenseval-training-v1.tsv','B')\n",
        "data_b,labels_b = dr_b.get_labelled_data()\n",
        "data_b,labels_b = dr_b.shuffle(data_b,labels_b,'random')\n",
        "\n",
        "tr_data_b,tst_data_b,tr_labels_b,tst_labels_b = split(data_b,labels_b,test_size=0.3)"
      ],
      "execution_count": null,
      "outputs": [
        {
          "output_type": "stream",
          "text": [
            "Reading Data: 13241it [00:00, 208164.30it/s]\n"
          ],
          "name": "stderr"
        }
      ]
    },
    {
      "metadata": {
        "id": "fta1SfiYkz2P"
      },
      "cell_type": "markdown",
      "source": [
        "## Initializing objects"
      ]
    },
    {
      "metadata": {
        "id": "oLyMw8DTlKnW"
      },
      "cell_type": "code",
      "source": [
        "preprocessors_b = [('lemmatize'),('remove_stopwords','lemmatize'),\n",
        "        ('remove_stopwords','stem'),('remove_stopwords','lemmatize'),\n",
        "        ('remove_stopwords','lemmatize'),('remove_stopwords')]\n",
        "\n",
        "vectorizers_b = ['count','count','count','tfidf','glove']\n",
        "\n",
        "classifiers_b = [('RandomForest',{'n_estimators':30}),\n",
        "               ('LogisticRegression',{'penalty':'l2','solver':'sag'}),\n",
        "              ('M-NaiveBayes',{'alpha':5,'fit_prior':True}),\n",
        "              ('KNN',{'n_neighbors':5}),('SVC',{'C':10,'kernel':'rbf'})]\n",
        "\n",
        "for i in range(len(vectorizers_b)):\n",
        "  preprocessors_b[i] = Preprocessor(preprocessors_b[i])\n",
        "  vectorizers_b[i] = Vectorizer(vectorizers_b[i])\n",
        "  classifiers_b[i] = Classifier(*classifiers_b[i])"
      ],
      "execution_count": null,
      "outputs": []
    },
    {
      "metadata": {
        "id": "4qIoMpYOkz2S"
      },
      "cell_type": "markdown",
      "source": [
        "## Training classifiers"
      ]
    },
    {
      "metadata": {
        "id": "o4M3f3SZkz2S",
        "colab": {
          "base_uri": "https://localhost:8080/",
          "height": 119
        },
        "outputId": "cfa938e8-7cf7-4e10-d32c-bf3c4ac6db0d"
      },
      "cell_type": "code",
      "source": [
        "tst_vecs_b = []\n",
        "tr_vecs_b = []\n",
        "for i in range(len(classifiers_b)):\n",
        "  tr_data_clean_b = preprocessors_b[i].clean(tr_data_b)\n",
        "  tst_data_clean_b = preprocessors_b[i].clean(tst_data_b)\n",
        "\n",
        "  tr_vecs_b.append(vectorizers_b[i].vectorize(tr_data_clean_b))\n",
        "  tst_vecs_b.append(vectorizers_b[i].vectorize(tst_data_clean_b))\n",
        "\n",
        "  classifiers_b[i].fit(tr_vecs_b[i],tr_labels_b)"
      ],
      "execution_count": null,
      "outputs": [
        {
          "output_type": "stream",
          "text": [
            "Vectorizing: 100%|██████████| 3080/3080 [00:00<00:00, 23458.25it/s]\n",
            "Finalizing: 100%|██████████| 3080/3080 [00:01<00:00, 2512.79it/s]\n"
          ],
          "name": "stderr"
        },
        {
          "output_type": "stream",
          "text": [
            "\n",
            "Loading Glove Embeddings from api...\n"
          ],
          "name": "stdout"
        },
        {
          "output_type": "stream",
          "text": [
            "Vectorizing: 100%|██████████| 1320/1320 [00:00<00:00, 21736.58it/s]\n",
            "Finalizing: 100%|██████████| 1320/1320 [00:00<00:00, 2660.21it/s]\n"
          ],
          "name": "stderr"
        }
      ]
    },
    {
      "metadata": {
        "id": "7wi9silMkz2V"
      },
      "cell_type": "markdown",
      "source": [
        "## Testing and plotting"
      ]
    },
    {
      "metadata": {
        "outputId": "8e13c071-edb5-4da1-9475-5c5b5d21f4e1",
        "id": "btwyY0BDkz2W",
        "colab": {
          "base_uri": "https://localhost:8080/",
          "height": 1657
        }
      },
      "cell_type": "code",
      "source": [
        "accs_b = []\n",
        "for i,clf in enumerate(classifiers_b):\n",
        "  acc = clf.test_and_plot(tst_vecs_b[i],tst_labels_b,class_num=2)\n",
        "  print(acc,clf.classifier.__name__,clf.params)\n",
        "  accs_b.append(acc)\n",
        "\n",
        "accs_b"
      ],
      "execution_count": null,
      "outputs": [
        {
          "output_type": "display_data",
          "data": {
            "image/png": "[encoded data removed]",
            "text/plain": [
              "<matplotlib.figure.Figure at 0x7fcfe8249748>"
            ]
          },
          "metadata": {
            "tags": []
          }
        },
        {
          "output_type": "stream",
          "text": [
            "0.8787878787878788 RandomForestClassifier {'n_estimators': 30}\n"
          ],
          "name": "stdout"
        },
        {
          "output_type": "display_data",
          "data": {
            "image/png": "[encoded data removed]",
            "text/plain": [
              "<matplotlib.figure.Figure at 0x7fcfe8244080>"
            ]
          },
          "metadata": {
            "tags": []
          }
        },
        {
          "output_type": "stream",
          "text": [
            "0.8757575757575757 LogisticRegression {'penalty': 'l2', 'solver': 'sag'}\n"
          ],
          "name": "stdout"
        },
        {
          "output_type": "display_data",
          "data": {
            "image/png": "[encoded data removed]",
            "text/plain": [
              "<matplotlib.figure.Figure at 0x7fcfe80b9be0>"
            ]
          },
          "metadata": {
            "tags": []
          }
        },
        {
          "output_type": "stream",
          "text": [
            "0.884090909090909 MultinomialNB {'alpha': 5, 'fit_prior': True}\n"
          ],
          "name": "stdout"
        },
        {
          "output_type": "display_data",
          "data": {
            "image/png": "[encoded data removed]",
            "text/plain": [
              "<matplotlib.figure.Figure at 0x7fcfe8124c88>"
            ]
          },
          "metadata": {
            "tags": []
          }
        },
        {
          "output_type": "stream",
          "text": [
            "0.878030303030303 KNeighborsClassifier {'n_neighbors': 5}\n"
          ],
          "name": "stdout"
        },
        {
          "output_type": "display_data",
          "data": {
            "image/png": "[encoded data removed]",
            "text/plain": [
              "<matplotlib.figure.Figure at 0x7fcfe803b400>"
            ]
          },
          "metadata": {
            "tags": []
          }
        },
        {
          "output_type": "stream",
          "text": [
            "0.8833333333333333 SVC {'C': 10, 'kernel': 'rbf'}\n"
          ],
          "name": "stdout"
        },
        {
          "output_type": "execute_result",
          "data": {
            "text/plain": [
              "[0.8787878787878788,\n",
              " 0.8757575757575757,\n",
              " 0.884090909090909,\n",
              " 0.878030303030303,\n",
              " 0.8833333333333333]"
            ]
          },
          "metadata": {
            "tags": []
          },
          "execution_count": 12
        }
      ]
    },
    {
      "metadata": {
        "id": "vQ_1HxhklyFF"
      },
      "cell_type": "markdown",
      "source": [
        "# Subtask C"
      ]
    },
    {
      "metadata": {
        "id": "Ku0YPPgjlyFF"
      },
      "cell_type": "markdown",
      "source": [
        "## Reading data and splitting"
      ]
    },
    {
      "metadata": {
        "outputId": "a3119696-fbeb-4509-be3e-8e9f46ca36a2",
        "id": "C2MkuedIlyFG",
        "colab": {
          "base_uri": "https://localhost:8080/",
          "height": 34
        }
      },
      "cell_type": "code",
      "source": [
        "dr_c = DataReader('./datasets/training-v1/offenseval-training-v1.tsv','C')\n",
        "data_c,labels_c = dr_c.get_labelled_data()\n",
        "data_c,labels_c = dr_c.shuffle(data_c,labels_c,'random')\n",
        "\n",
        "tr_data_c,tst_data_c,tr_labels_c,tst_labels_c = split(data_c,labels_c,test_size=0.3)"
      ],
      "execution_count": null,
      "outputs": [
        {
          "output_type": "stream",
          "text": [
            "Reading Data: 13241it [00:00, 214260.61it/s]\n"
          ],
          "name": "stderr"
        }
      ]
    },
    {
      "metadata": {
        "id": "SQyaJvqQlyFJ"
      },
      "cell_type": "markdown",
      "source": [
        "## Initializing objects"
      ]
    },
    {
      "metadata": {
        "id": "tjliRJSGlyFK"
      },
      "cell_type": "code",
      "source": [
        "preprocessors_c = [('lemmatize'),('remove_stopwords','lemmatize'),\n",
        "        ('remove_stopwords','stem'),('remove_stopwords','lemmatize'),\n",
        "        ('remove_stopwords','lemmatize'),('remove_stopwords')]\n",
        "\n",
        "vectorizers_c = ['count','count','count','tfidf','glove']\n",
        "\n",
        "classifiers_c = [('RandomForest',{'n_estimators':30}),\n",
        "               ('LogisticRegression',{'penalty':'l2','solver':'sag'}),\n",
        "              ('M-NaiveBayes',{'alpha':5,'fit_prior':True}),\n",
        "              ('KNN',{'n_neighbors':5}),('SVC',{'C':10,'kernel':'rbf'})]\n",
        "\n",
        "for i in range(len(vectorizers_c)):\n",
        "  preprocessors_c[i] = Preprocessor(preprocessors_c[i])\n",
        "  vectorizers_c[i] = Vectorizer(vectorizers_c[i])\n",
        "  classifiers_c[i] = Classifier(*classifiers_c[i])"
      ],
      "execution_count": null,
      "outputs": []
    },
    {
      "metadata": {
        "id": "ba_tow8qlyFT"
      },
      "cell_type": "markdown",
      "source": [
        "## Training classifiers"
      ]
    },
    {
      "metadata": {
        "id": "xYKl1wBZlyFU"
      },
      "cell_type": "code",
      "source": [
        "tst_vecs_c = []\n",
        "tr_vecs_c = []\n",
        "for i in range(len(classifiers_c)):\n",
        "  tr_data_clean_c = preprocessors_c[i].clean(tr_data_c)\n",
        "  tst_data_clean_c = preprocessors_c[i].clean(tst_data_c)\n",
        "\n",
        "  tr_vecs_c.append(vectorizers_c[i].vectorize(tr_data_clean_c))\n",
        "  tst_vecs_c.append(vectorizers_c[i].vectorize(tst_data_clean_c))\n",
        "\n",
        "  classifiers_c[i].fit(tr_vecs_c[i],tr_labels_c)"
      ],
      "execution_count": null,
      "outputs": []
    },
    {
      "metadata": {
        "id": "2KaNrNoxlyFW"
      },
      "cell_type": "markdown",
      "source": [
        "## Testing and plotting"
      ]
    },
    {
      "metadata": {
        "id": "_l3B4ocslyFZ",
        "colab": {
          "base_uri": "https://localhost:8080/",
          "height": 1657
        },
        "outputId": "6e84a419-4f7b-4f81-f79d-6ce76e90c951"
      },
      "cell_type": "code",
      "source": [
        "accs_c = []\n",
        "for i,clf in enumerate(classifiers_c):\n",
        "  acc = clf.test_and_plot(tst_vecs_c[i],tst_labels_c,class_num=3)\n",
        "  print(acc,clf.classifier.__name__,clf.params)\n",
        "  accs_c.append(acc)\n",
        "\n",
        "accs_c"
      ],
      "execution_count": null,
      "outputs": [
        {
          "output_type": "display_data",
          "data": {
            "image/png": "[encoded data removed]",
            "text/plain": [
              "<matplotlib.figure.Figure at 0x7fcfee6bcb00>"
            ]
          },
          "metadata": {
            "tags": []
          }
        },
        {
          "output_type": "stream",
          "text": [
            "0.70335339638865 RandomForestClassifier {'n_estimators': 30}\n"
          ],
          "name": "stdout"
        },
        {
          "output_type": "display_data",
          "data": {
            "image/png": "[encoded data removed]",
            "text/plain": [
              "<matplotlib.figure.Figure at 0x7fcfe4c3fdd8>"
            ]
          },
          "metadata": {
            "tags": []
          }
        },
        {
          "output_type": "stream",
          "text": [
            "0.6775580395528805 LogisticRegression {'penalty': 'l2', 'solver': 'sag'}\n"
          ],
          "name": "stdout"
        },
        {
          "output_type": "display_data",
          "data": {
            "image/png": "[encoded data removed]",
            "text/plain": [
              "<matplotlib.figure.Figure at 0x7fcfe4b9f160>"
            ]
          },
          "metadata": {
            "tags": []
          }
        },
        {
          "output_type": "stream",
          "text": [
            "0.6715391229578676 MultinomialNB {'alpha': 5, 'fit_prior': True}\n"
          ],
          "name": "stdout"
        },
        {
          "output_type": "display_data",
          "data": {
            "image/png": "[encoded data removed]",
            "text/plain": [
              "<matplotlib.figure.Figure at 0x7fcfcf090978>"
            ]
          },
          "metadata": {
            "tags": []
          }
        },
        {
          "output_type": "stream",
          "text": [
            "0.6319862424763543 KNeighborsClassifier {'n_neighbors': 5}\n"
          ],
          "name": "stdout"
        },
        {
          "output_type": "display_data",
          "data": {
            "image/png": "[encoded data removed]",
            "text/plain": [
              "<matplotlib.figure.Figure at 0x7fcfe4b820f0>"
            ]
          },
          "metadata": {
            "tags": []
          }
        },
        {
          "output_type": "stream",
          "text": [
            "0.641444539982803 SVC {'C': 10, 'kernel': 'rbf'}\n"
          ],
          "name": "stdout"
        },
        {
          "output_type": "execute_result",
          "data": {
            "text/plain": [
              "[0.70335339638865,\n",
              " 0.6775580395528805,\n",
              " 0.6715391229578676,\n",
              " 0.6319862424763543,\n",
              " 0.641444539982803]"
            ]
          },
          "metadata": {
            "tags": []
          },
          "execution_count": 20
        }
      ]
    },
    {
      "metadata": {
        "id": "-GRp8Nqg1DmU"
      },
      "cell_type": "markdown",
      "source": [
        "# Neural Nets"
      ]
    },
    {
      "metadata": {
        "id": "MnN7eexD1GTz"
      },
      "cell_type": "markdown",
      "source": [
        "## Subtask A"
      ]
    },
    {
      "metadata": {
        "id": "kHvhq8X3HZBq"
      },
      "cell_type": "markdown",
      "source": [
        "### Reading data and cleaning"
      ]
    },
    {
      "metadata": {
        "id": "btbz4srU1KNh"
      },
      "cell_type": "code",
      "source": [
        "dr_nn = DataReader('./datasets/training-v1/offenseval-training-v1.tsv','A')\n",
        "data_nn,labels_nn = dr_nn.get_labelled_data()\n",
        "data_nn,labels_nn = dr_nn.shuffle(data_nn,labels_nn,'random')\n",
        "\n",
        "tr_data_nn,tst_data_nn,tr_labels_nn,tst_labels_nn = split(data_nn,labels_nn,test_size=0.3)\n",
        "\n",
        "prp = Preprocessor('remove_stopwords','lemmatize')\n",
        "tr_data_clean_nn = prp.clean(tr_data_nn)\n",
        "tst_data_clean_nn = prp.clean(tst_data_nn)\n",
        "\n",
        "vct = Vectorizer('count')\n",
        "vct.vectorize(tr_data_clean_nn)"
      ],
      "execution_count": null,
      "outputs": []
    },
    {
      "metadata": {
        "id": "mDBVwCX0GpV2"
      },
      "cell_type": "markdown",
      "source": [
        "### Training LSTM"
      ]
    },
    {
      "metadata": {
        "id": "7DJNEe6117_a",
        "colab": {
          "base_uri": "https://localhost:8080/",
          "height": 2329
        },
        "outputId": "a758a74c-176a-4f2b-8e80-42f72271a5d0"
      },
      "cell_type": "code",
      "source": [
        "lstm = DeepLearner(tr_data_clean_nn,tr_labels_nn,vocab_length=vct.vocab_length,model_type='LSTM')\n",
        "lstm.train(epochs=60)"
      ],
      "execution_count": null,
      "outputs": [
        {
          "output_type": "stream",
          "text": [
            "_________________________________________________________________\n",
            "Layer (type)                 Output Shape              Param #   \n",
            "=================================================================\n",
            "embedding_3 (Embedding)      (None, 44, 30)            386370    \n",
            "_________________________________________________________________\n",
            "lstm_3 (LSTM)                (None, 200)               184800    \n",
            "_________________________________________________________________\n",
            "dense_5 (Dense)              (None, 44)                8844      \n",
            "_________________________________________________________________\n",
            "dense_6 (Dense)              (None, 2)                 90        \n",
            "=================================================================\n",
            "Total params: 580,104\n",
            "Trainable params: 580,104\n",
            "Non-trainable params: 0\n",
            "_________________________________________________________________\n",
            "Train on 7414 samples, validate on 1854 samples\n",
            "Epoch 1/60\n",
            "7414/7414 [==============================] - 18s 2ms/step - loss: 4.1223 - acc: 0.6658 - val_loss: 0.6438 - val_acc: 0.6634\n",
            "Epoch 2/60\n",
            "7414/7414 [==============================] - 16s 2ms/step - loss: 0.6370 - acc: 0.6685 - val_loss: 0.6391 - val_acc: 0.6634\n",
            "Epoch 3/60\n",
            "7414/7414 [==============================] - 16s 2ms/step - loss: 0.6362 - acc: 0.6685 - val_loss: 0.6390 - val_acc: 0.6634\n",
            "Epoch 4/60\n",
            "7414/7414 [==============================] - 16s 2ms/step - loss: 0.6364 - acc: 0.6685 - val_loss: 0.6399 - val_acc: 0.6634\n",
            "Epoch 5/60\n",
            "7414/7414 [==============================] - 16s 2ms/step - loss: 0.6357 - acc: 0.6685 - val_loss: 0.6392 - val_acc: 0.6634\n",
            "Epoch 6/60\n",
            "7414/7414 [==============================] - 16s 2ms/step - loss: 0.6358 - acc: 0.6685 - val_loss: 0.6391 - val_acc: 0.6634\n",
            "Epoch 7/60\n",
            "7414/7414 [==============================] - 16s 2ms/step - loss: 0.6357 - acc: 0.6685 - val_loss: 0.6389 - val_acc: 0.6634\n",
            "Epoch 8/60\n",
            "7414/7414 [==============================] - 16s 2ms/step - loss: 0.6355 - acc: 0.6685 - val_loss: 0.6391 - val_acc: 0.6634\n",
            "Epoch 9/60\n",
            "7414/7414 [==============================] - 16s 2ms/step - loss: 0.6357 - acc: 0.6685 - val_loss: 0.6391 - val_acc: 0.6634\n",
            "Epoch 10/60\n",
            "7414/7414 [==============================] - 16s 2ms/step - loss: 0.6355 - acc: 0.6685 - val_loss: 0.6389 - val_acc: 0.6634\n",
            "Epoch 11/60\n",
            "7414/7414 [==============================] - 16s 2ms/step - loss: 0.6358 - acc: 0.6685 - val_loss: 0.6390 - val_acc: 0.6634\n",
            "Epoch 12/60\n",
            "7414/7414 [==============================] - 16s 2ms/step - loss: 0.6356 - acc: 0.6685 - val_loss: 0.6389 - val_acc: 0.6634\n",
            "Epoch 13/60\n",
            "7414/7414 [==============================] - 16s 2ms/step - loss: 0.6355 - acc: 0.6685 - val_loss: 0.6389 - val_acc: 0.6634\n",
            "Epoch 14/60\n",
            "7414/7414 [==============================] - 16s 2ms/step - loss: 0.6355 - acc: 0.6685 - val_loss: 0.6389 - val_acc: 0.6634\n",
            "Epoch 15/60\n",
            "7414/7414 [==============================] - 16s 2ms/step - loss: 0.6356 - acc: 0.6685 - val_loss: 0.6388 - val_acc: 0.6634\n",
            "Epoch 16/60\n",
            "7414/7414 [==============================] - 16s 2ms/step - loss: 0.6356 - acc: 0.6685 - val_loss: 0.6389 - val_acc: 0.6634\n",
            "Epoch 17/60\n",
            "7414/7414 [==============================] - 16s 2ms/step - loss: 0.6356 - acc: 0.6685 - val_loss: 0.6390 - val_acc: 0.6634\n",
            "Epoch 18/60\n",
            "7414/7414 [==============================] - 16s 2ms/step - loss: 0.6355 - acc: 0.6685 - val_loss: 0.6390 - val_acc: 0.6634\n",
            "Epoch 19/60\n",
            "7414/7414 [==============================] - 16s 2ms/step - loss: 0.6356 - acc: 0.6685 - val_loss: 0.6388 - val_acc: 0.6634\n",
            "Epoch 20/60\n",
            "7414/7414 [==============================] - 17s 2ms/step - loss: 0.6356 - acc: 0.6685 - val_loss: 0.6388 - val_acc: 0.6634\n",
            "Epoch 21/60\n",
            "7414/7414 [==============================] - 16s 2ms/step - loss: 0.6356 - acc: 0.6685 - val_loss: 0.6390 - val_acc: 0.6634\n",
            "Epoch 22/60\n",
            "7414/7414 [==============================] - 16s 2ms/step - loss: 0.6354 - acc: 0.6685 - val_loss: 0.6393 - val_acc: 0.6634\n",
            "Epoch 23/60\n",
            "7414/7414 [==============================] - 16s 2ms/step - loss: 0.6356 - acc: 0.6685 - val_loss: 0.6388 - val_acc: 0.6634\n",
            "Epoch 24/60\n",
            "7414/7414 [==============================] - 16s 2ms/step - loss: 0.6353 - acc: 0.6685 - val_loss: 0.6388 - val_acc: 0.6634\n",
            "Epoch 25/60\n",
            "7414/7414 [==============================] - 16s 2ms/step - loss: 0.6357 - acc: 0.6685 - val_loss: 0.6388 - val_acc: 0.6634\n",
            "Epoch 26/60\n",
            "7414/7414 [==============================] - 16s 2ms/step - loss: 0.6371 - acc: 0.6685 - val_loss: 0.6389 - val_acc: 0.6634\n",
            "Epoch 27/60\n",
            "7414/7414 [==============================] - 16s 2ms/step - loss: 0.6358 - acc: 0.6685 - val_loss: 0.6390 - val_acc: 0.6634\n",
            "Epoch 28/60\n",
            "7414/7414 [==============================] - 16s 2ms/step - loss: 0.6360 - acc: 0.6685 - val_loss: 0.6389 - val_acc: 0.6634\n",
            "Epoch 29/60\n",
            "7414/7414 [==============================] - 16s 2ms/step - loss: 0.6356 - acc: 0.6685 - val_loss: 0.6392 - val_acc: 0.6634\n",
            "Epoch 30/60\n",
            "7414/7414 [==============================] - 16s 2ms/step - loss: 0.6357 - acc: 0.6685 - val_loss: 0.6393 - val_acc: 0.6634\n",
            "Epoch 31/60\n",
            "7414/7414 [==============================] - 16s 2ms/step - loss: 0.6355 - acc: 0.6685 - val_loss: 0.6395 - val_acc: 0.6634\n",
            "Epoch 32/60\n",
            "7414/7414 [==============================] - 16s 2ms/step - loss: 0.6356 - acc: 0.6685 - val_loss: 0.6389 - val_acc: 0.6634\n",
            "Epoch 33/60\n",
            "7414/7414 [==============================] - 16s 2ms/step - loss: 0.6358 - acc: 0.6685 - val_loss: 0.6396 - val_acc: 0.6634\n",
            "Epoch 34/60\n",
            "7414/7414 [==============================] - 16s 2ms/step - loss: 0.6355 - acc: 0.6685 - val_loss: 0.6388 - val_acc: 0.6634\n",
            "Epoch 35/60\n",
            "7414/7414 [==============================] - 16s 2ms/step - loss: 0.6355 - acc: 0.6685 - val_loss: 0.6401 - val_acc: 0.6634\n",
            "Epoch 36/60\n",
            "7414/7414 [==============================] - 16s 2ms/step - loss: 0.6403 - acc: 0.6685 - val_loss: 0.6393 - val_acc: 0.6634\n",
            "Epoch 37/60\n",
            "7414/7414 [==============================] - 16s 2ms/step - loss: 0.6360 - acc: 0.6685 - val_loss: 0.6388 - val_acc: 0.6634\n",
            "Epoch 38/60\n",
            "7414/7414 [==============================] - 16s 2ms/step - loss: 0.6358 - acc: 0.6685 - val_loss: 0.6391 - val_acc: 0.6634\n",
            "Epoch 39/60\n",
            "7414/7414 [==============================] - 17s 2ms/step - loss: 0.6357 - acc: 0.6685 - val_loss: 0.6395 - val_acc: 0.6634\n",
            "Epoch 40/60\n",
            "7414/7414 [==============================] - 16s 2ms/step - loss: 0.6358 - acc: 0.6685 - val_loss: 0.6388 - val_acc: 0.6634\n",
            "Epoch 41/60\n",
            "7414/7414 [==============================] - 16s 2ms/step - loss: 0.6357 - acc: 0.6685 - val_loss: 0.6392 - val_acc: 0.6634\n",
            "Epoch 42/60\n",
            "7414/7414 [==============================] - 16s 2ms/step - loss: 0.6362 - acc: 0.6685 - val_loss: 0.6389 - val_acc: 0.6634\n",
            "Epoch 43/60\n",
            "7414/7414 [==============================] - 17s 2ms/step - loss: 0.6355 - acc: 0.6685 - val_loss: 0.6390 - val_acc: 0.6634\n",
            "Epoch 44/60\n",
            "7414/7414 [==============================] - 16s 2ms/step - loss: 0.6360 - acc: 0.6685 - val_loss: 0.6404 - val_acc: 0.6634\n",
            "Epoch 45/60\n",
            "7414/7414 [==============================] - 16s 2ms/step - loss: 0.6357 - acc: 0.6685 - val_loss: 0.6390 - val_acc: 0.6634\n",
            "Epoch 46/60\n",
            "7414/7414 [==============================] - 16s 2ms/step - loss: 0.6358 - acc: 0.6685 - val_loss: 0.6393 - val_acc: 0.6634\n",
            "Epoch 47/60\n",
            "7414/7414 [==============================] - 16s 2ms/step - loss: 0.6359 - acc: 0.6685 - val_loss: 0.6389 - val_acc: 0.6634\n",
            "Epoch 48/60\n",
            "7414/7414 [==============================] - 16s 2ms/step - loss: 0.6362 - acc: 0.6685 - val_loss: 0.6390 - val_acc: 0.6634\n",
            "Epoch 49/60\n",
            "7414/7414 [==============================] - 16s 2ms/step - loss: 0.6356 - acc: 0.6685 - val_loss: 0.6389 - val_acc: 0.6634\n",
            "Epoch 50/60\n",
            "7414/7414 [==============================] - 16s 2ms/step - loss: 0.6354 - acc: 0.6685 - val_loss: 0.6388 - val_acc: 0.6634\n",
            "Epoch 51/60\n",
            "7414/7414 [==============================] - 16s 2ms/step - loss: 0.6356 - acc: 0.6685 - val_loss: 0.6399 - val_acc: 0.6634\n",
            "Epoch 52/60\n",
            "7414/7414 [==============================] - 16s 2ms/step - loss: 0.6357 - acc: 0.6685 - val_loss: 0.6391 - val_acc: 0.6634\n",
            "Epoch 53/60\n",
            "7414/7414 [==============================] - 16s 2ms/step - loss: 0.6355 - acc: 0.6685 - val_loss: 0.6389 - val_acc: 0.6634\n",
            "Epoch 54/60\n",
            "7414/7414 [==============================] - 16s 2ms/step - loss: 0.6357 - acc: 0.6685 - val_loss: 0.6391 - val_acc: 0.6634\n",
            "Epoch 55/60\n",
            "7414/7414 [==============================] - 16s 2ms/step - loss: 0.6373 - acc: 0.6685 - val_loss: 0.6994 - val_acc: 0.6634\n",
            "Epoch 56/60\n",
            "7414/7414 [==============================] - 16s 2ms/step - loss: 0.6390 - acc: 0.6685 - val_loss: 0.6388 - val_acc: 0.6634\n",
            "Epoch 57/60\n",
            "7414/7414 [==============================] - 16s 2ms/step - loss: 0.6354 - acc: 0.6685 - val_loss: 0.6398 - val_acc: 0.6634\n",
            "Epoch 58/60\n",
            "7414/7414 [==============================] - 17s 2ms/step - loss: 0.6360 - acc: 0.6685 - val_loss: 0.6392 - val_acc: 0.6634\n",
            "Epoch 59/60\n",
            "7414/7414 [==============================] - 16s 2ms/step - loss: 0.6357 - acc: 0.6685 - val_loss: 0.6393 - val_acc: 0.6634\n",
            "Epoch 60/60\n",
            "7414/7414 [==============================] - 16s 2ms/step - loss: 0.6357 - acc: 0.6685 - val_loss: 0.6389 - val_acc: 0.6634\n"
          ],
          "name": "stdout"
        }
      ]
    },
    {
      "metadata": {
        "id": "QVcvpSnKGrPr"
      },
      "cell_type": "markdown",
      "source": [
        "### Testing LSTM and plotting"
      ]
    },
    {
      "metadata": {
        "id": "vXn2cQ-PBlWL",
        "colab": {
          "base_uri": "https://localhost:8080/",
          "height": 345
        },
        "outputId": "44a97efb-7be8-42c6-dd6f-5ab512f0374b"
      },
      "cell_type": "code",
      "source": [
        "acc = lstm.test_and_plot(tst_data_clean_nn,tst_labels_nn)\n",
        "print('LSTM',acc)"
      ],
      "execution_count": null,
      "outputs": [
        {
          "output_type": "display_data",
          "data": {
            "image/png": "[encoded data removed]",
            "text/plain": [
              "<matplotlib.figure.Figure at 0x7f7ab35ca860>"
            ]
          },
          "metadata": {
            "tags": []
          }
        },
        {
          "output_type": "stream",
          "text": [
            "3972/3972 [==============================] - 2s 524us/step\n",
            "LSTM (['loss', 'acc'], [0.6355910050905003, 0.6681772406847936])\n"
          ],
          "name": "stdout"
        }
      ]
    },
    {
      "metadata": {
        "id": "tt61VYU1GytO"
      },
      "cell_type": "markdown",
      "source": [
        "### Training CNN"
      ]
    },
    {
      "metadata": {
        "id": "sfVRBuc618iG",
        "colab": {
          "base_uri": "https://localhost:8080/",
          "height": 799
        },
        "outputId": "6dd8a76a-a8f4-40e9-d99a-7eaaa44339eb"
      },
      "cell_type": "code",
      "source": [
        "cnn = DeepLearner(tr_data_clean_nn,tr_labels_nn,vocab_length=vct.vocab_length,model_type='CNN')\n",
        "cnn.train(epochs=10)"
      ],
      "execution_count": null,
      "outputs": [
        {
          "output_type": "stream",
          "text": [
            "_________________________________________________________________\n",
            "Layer (type)                 Output Shape              Param #   \n",
            "=================================================================\n",
            "embedding_12 (Embedding)     (None, 44, 30)            194340    \n",
            "_________________________________________________________________\n",
            "conv1d_16 (Conv1D)           (None, 40, 64)            9664      \n",
            "_________________________________________________________________\n",
            "dropout_11 (Dropout)         (None, 40, 64)            0         \n",
            "_________________________________________________________________\n",
            "conv1d_17 (Conv1D)           (None, 38, 32)            6176      \n",
            "_________________________________________________________________\n",
            "dropout_12 (Dropout)         (None, 38, 32)            0         \n",
            "_________________________________________________________________\n",
            "conv1d_18 (Conv1D)           (None, 36, 16)            1552      \n",
            "_________________________________________________________________\n",
            "max_pooling1d_6 (MaxPooling1 (None, 7, 16)             0         \n",
            "_________________________________________________________________\n",
            "flatten_6 (Flatten)          (None, 112)               0         \n",
            "_________________________________________________________________\n",
            "dense_18 (Dense)             (None, 2)                 226       \n",
            "=================================================================\n",
            "Total params: 211,958\n",
            "Trainable params: 211,958\n",
            "Non-trainable params: 0\n",
            "_________________________________________________________________\n",
            "Train on 7414 samples, validate on 1854 samples\n",
            "Epoch 1/10\n",
            "7414/7414 [==============================] - 5s 695us/step - loss: 0.6371 - acc: 0.6685 - val_loss: 0.6383 - val_acc: 0.6634\n",
            "Epoch 2/10\n",
            "7414/7414 [==============================] - 3s 393us/step - loss: 0.6248 - acc: 0.6733 - val_loss: 0.6068 - val_acc: 0.6742\n",
            "Epoch 3/10\n",
            "7414/7414 [==============================] - 3s 381us/step - loss: 0.5380 - acc: 0.7346 - val_loss: 0.5670 - val_acc: 0.7098\n",
            "Epoch 4/10\n",
            "7414/7414 [==============================] - 3s 379us/step - loss: 0.4184 - acc: 0.8110 - val_loss: 0.6201 - val_acc: 0.7087\n",
            "Epoch 5/10\n",
            "7414/7414 [==============================] - 3s 383us/step - loss: 0.3323 - acc: 0.8693 - val_loss: 0.6714 - val_acc: 0.7136\n",
            "Epoch 6/10\n",
            "7414/7414 [==============================] - 3s 388us/step - loss: 0.2756 - acc: 0.9030 - val_loss: 0.7258 - val_acc: 0.7050\n",
            "Epoch 7/10\n",
            "7414/7414 [==============================] - 3s 386us/step - loss: 0.2315 - acc: 0.9228 - val_loss: 0.7766 - val_acc: 0.7082\n",
            "Epoch 8/10\n",
            "7414/7414 [==============================] - 3s 377us/step - loss: 0.2041 - acc: 0.9349 - val_loss: 0.8232 - val_acc: 0.6931\n",
            "Epoch 9/10\n",
            "7414/7414 [==============================] - 3s 379us/step - loss: 0.1755 - acc: 0.9443 - val_loss: 0.8684 - val_acc: 0.7023\n",
            "Epoch 10/10\n",
            "7414/7414 [==============================] - 3s 396us/step - loss: 0.1561 - acc: 0.9525 - val_loss: 0.9241 - val_acc: 0.6909\n"
          ],
          "name": "stdout"
        }
      ]
    },
    {
      "metadata": {
        "id": "JwLPYYEhG0z4"
      },
      "cell_type": "markdown",
      "source": [
        "### Testing CNN and plotting"
      ]
    },
    {
      "metadata": {
        "id": "0Q1pj6yb-LEx",
        "colab": {
          "base_uri": "https://localhost:8080/",
          "height": 345
        },
        "outputId": "a3744285-c9d5-44a2-e88f-3b71f0ac7e1b"
      },
      "cell_type": "code",
      "source": [
        "acc = cnn.test_and_plot(tst_data_clean_nn,tst_labels_nn)\n",
        "print('CNN',acc)"
      ],
      "execution_count": null,
      "outputs": [
        {
          "output_type": "display_data",
          "data": {
            "image/png": "[encoded data removed]",
            "text/plain": [
              "<matplotlib.figure.Figure at 0x7f7ab9ece1d0>"
            ]
          },
          "metadata": {
            "tags": []
          }
        },
        {
          "output_type": "stream",
          "text": [
            "3972/3972 [==============================] - 0s 104us/step\n",
            "CNN (['loss', 'acc'], [0.902804250743574, 0.7066968781470292])\n"
          ],
          "name": "stdout"
        }
      ]
    },
    {
      "metadata": {
        "id": "IydzgOJF5uI-"
      },
      "cell_type": "markdown",
      "source": [
        "## Subtask B"
      ]
    },
    {
      "metadata": {
        "id": "y4iFyXuCHW6x"
      },
      "cell_type": "markdown",
      "source": [
        "### Reading data and cleaning"
      ]
    },
    {
      "metadata": {
        "id": "teobMyll5uI-"
      },
      "cell_type": "code",
      "source": [
        "dr_nn_b = DataReader('./datasets/training-v1/offenseval-training-v1.tsv','B')\n",
        "data_nn_b,labels_nn_b = dr_nn_b.get_labelled_data()\n",
        "data_nn_b,labels_nn_b = dr_nn_b.shuffle(data_nn_b,labels_nn_b,'random')\n",
        "\n",
        "tr_data_nn_b,tst_data_nn_b,tr_labels_nn_b,tst_labels_nn_b = split(data_nn_b,labels_nn_b,test_size=0.3)\n",
        "\n",
        "prp = Preprocessor('remove_stopwords','lemmatize')\n",
        "tr_data_clean_nn_b = prp.clean(tr_data_nn_b)\n",
        "tst_data_clean_nn_b = prp.clean(tst_data_nn_b)\n",
        "\n",
        "vct = Vectorizer('count')\n",
        "vct.vectorize(tr_data_clean_nn_b)"
      ],
      "execution_count": null,
      "outputs": []
    },
    {
      "metadata": {
        "id": "nKk1wEJ2G3rh"
      },
      "cell_type": "markdown",
      "source": [
        "### Training LSTM"
      ]
    },
    {
      "metadata": {
        "outputId": "73a0dc82-a166-4f65-ba6f-0fdb4fc04c48",
        "id": "Uw4a9N0o5uJG",
        "colab": {
          "base_uri": "https://localhost:8080/",
          "height": 2329
        }
      },
      "cell_type": "code",
      "source": [
        "lstm_b = DeepLearner(tr_data_clean_nn_b,tr_labels_nn_b,vocab_length=vct.vocab_length,model_type='LSTM')\n",
        "lstm_b.train(epochs=60)"
      ],
      "execution_count": null,
      "outputs": [
        {
          "output_type": "stream",
          "text": [
            "_________________________________________________________________\n",
            "Layer (type)                 Output Shape              Param #   \n",
            "=================================================================\n",
            "embedding_6 (Embedding)      (None, 41, 30)            205890    \n",
            "_________________________________________________________________\n",
            "lstm_5 (LSTM)                (None, 200)               184800    \n",
            "_________________________________________________________________\n",
            "dense_10 (Dense)             (None, 41)                8241      \n",
            "_________________________________________________________________\n",
            "dense_11 (Dense)             (None, 2)                 84        \n",
            "=================================================================\n",
            "Total params: 399,015\n",
            "Trainable params: 399,015\n",
            "Non-trainable params: 0\n",
            "_________________________________________________________________\n",
            "Train on 2464 samples, validate on 616 samples\n",
            "Epoch 1/60\n",
            "2464/2464 [==============================] - 7s 3ms/step - loss: 10.2279 - acc: 0.8791 - val_loss: 0.8589 - val_acc: 0.9107\n",
            "Epoch 2/60\n",
            "2464/2464 [==============================] - 5s 2ms/step - loss: 0.5230 - acc: 0.8795 - val_loss: 0.3527 - val_acc: 0.9107\n",
            "Epoch 3/60\n",
            "2464/2464 [==============================] - 5s 2ms/step - loss: 0.3998 - acc: 0.8795 - val_loss: 0.3301 - val_acc: 0.9107\n",
            "Epoch 4/60\n",
            "2464/2464 [==============================] - 5s 2ms/step - loss: 0.3861 - acc: 0.8795 - val_loss: 0.3284 - val_acc: 0.9107\n",
            "Epoch 5/60\n",
            "2464/2464 [==============================] - 5s 2ms/step - loss: 0.3803 - acc: 0.8795 - val_loss: 0.3297 - val_acc: 0.9107\n",
            "Epoch 6/60\n",
            "2464/2464 [==============================] - 5s 2ms/step - loss: 0.3803 - acc: 0.8795 - val_loss: 0.3105 - val_acc: 0.9107\n",
            "Epoch 7/60\n",
            "2464/2464 [==============================] - 5s 2ms/step - loss: 0.3761 - acc: 0.8795 - val_loss: 0.3085 - val_acc: 0.9107\n",
            "Epoch 8/60\n",
            "2464/2464 [==============================] - 5s 2ms/step - loss: 0.3747 - acc: 0.8795 - val_loss: 0.3112 - val_acc: 0.9107\n",
            "Epoch 9/60\n",
            "2464/2464 [==============================] - 5s 2ms/step - loss: 0.3748 - acc: 0.8795 - val_loss: 0.3078 - val_acc: 0.9107\n",
            "Epoch 10/60\n",
            "2464/2464 [==============================] - 5s 2ms/step - loss: 0.3708 - acc: 0.8795 - val_loss: 0.3057 - val_acc: 0.9107\n",
            "Epoch 11/60\n",
            "2464/2464 [==============================] - 5s 2ms/step - loss: 0.3711 - acc: 0.8795 - val_loss: 0.3135 - val_acc: 0.9107\n",
            "Epoch 12/60\n",
            "2464/2464 [==============================] - 5s 2ms/step - loss: 0.3705 - acc: 0.8795 - val_loss: 0.3090 - val_acc: 0.9107\n",
            "Epoch 13/60\n",
            "2464/2464 [==============================] - 5s 2ms/step - loss: 0.3700 - acc: 0.8795 - val_loss: 0.3060 - val_acc: 0.9107\n",
            "Epoch 14/60\n",
            "2464/2464 [==============================] - 5s 2ms/step - loss: 0.3707 - acc: 0.8795 - val_loss: 0.3069 - val_acc: 0.9107\n",
            "Epoch 15/60\n",
            "2464/2464 [==============================] - 5s 2ms/step - loss: 0.3691 - acc: 0.8795 - val_loss: 0.3071 - val_acc: 0.9107\n",
            "Epoch 16/60\n",
            "2464/2464 [==============================] - 5s 2ms/step - loss: 0.3686 - acc: 0.8795 - val_loss: 0.3029 - val_acc: 0.9107\n",
            "Epoch 17/60\n",
            "2464/2464 [==============================] - 5s 2ms/step - loss: 0.3725 - acc: 0.8795 - val_loss: 0.3101 - val_acc: 0.9107\n",
            "Epoch 18/60\n",
            "2464/2464 [==============================] - 5s 2ms/step - loss: 0.3703 - acc: 0.8795 - val_loss: 0.3148 - val_acc: 0.9107\n",
            "Epoch 19/60\n",
            "2464/2464 [==============================] - 5s 2ms/step - loss: 0.3689 - acc: 0.8795 - val_loss: 0.3076 - val_acc: 0.9107\n",
            "Epoch 20/60\n",
            "2464/2464 [==============================] - 5s 2ms/step - loss: 0.3704 - acc: 0.8795 - val_loss: 0.3103 - val_acc: 0.9107\n",
            "Epoch 21/60\n",
            "2464/2464 [==============================] - 5s 2ms/step - loss: 0.3694 - acc: 0.8795 - val_loss: 0.3026 - val_acc: 0.9107\n",
            "Epoch 22/60\n",
            "2464/2464 [==============================] - 5s 2ms/step - loss: 0.3701 - acc: 0.8795 - val_loss: 0.3067 - val_acc: 0.9107\n",
            "Epoch 23/60\n",
            "2464/2464 [==============================] - 5s 2ms/step - loss: 0.3686 - acc: 0.8795 - val_loss: 0.3105 - val_acc: 0.9107\n",
            "Epoch 24/60\n",
            "2464/2464 [==============================] - 5s 2ms/step - loss: 0.3696 - acc: 0.8795 - val_loss: 0.3087 - val_acc: 0.9107\n",
            "Epoch 25/60\n",
            "2464/2464 [==============================] - 5s 2ms/step - loss: 0.3692 - acc: 0.8795 - val_loss: 0.3100 - val_acc: 0.9107\n",
            "Epoch 26/60\n",
            "2464/2464 [==============================] - 5s 2ms/step - loss: 0.3693 - acc: 0.8795 - val_loss: 0.3061 - val_acc: 0.9107\n",
            "Epoch 27/60\n",
            "2464/2464 [==============================] - 5s 2ms/step - loss: 0.3687 - acc: 0.8795 - val_loss: 0.3141 - val_acc: 0.9107\n",
            "Epoch 28/60\n",
            "2464/2464 [==============================] - 5s 2ms/step - loss: 0.3691 - acc: 0.8795 - val_loss: 0.3082 - val_acc: 0.9107\n",
            "Epoch 29/60\n",
            "2464/2464 [==============================] - 5s 2ms/step - loss: 0.3688 - acc: 0.8795 - val_loss: 0.3041 - val_acc: 0.9107\n",
            "Epoch 30/60\n",
            "2464/2464 [==============================] - 5s 2ms/step - loss: 0.3697 - acc: 0.8795 - val_loss: 0.3053 - val_acc: 0.9107\n",
            "Epoch 31/60\n",
            "2464/2464 [==============================] - 5s 2ms/step - loss: 0.3683 - acc: 0.8795 - val_loss: 0.3063 - val_acc: 0.9107\n",
            "Epoch 32/60\n",
            "2464/2464 [==============================] - 5s 2ms/step - loss: 0.3688 - acc: 0.8795 - val_loss: 0.3064 - val_acc: 0.9107\n",
            "Epoch 33/60\n",
            "2464/2464 [==============================] - 5s 2ms/step - loss: 0.3707 - acc: 0.8795 - val_loss: 0.3089 - val_acc: 0.9107\n",
            "Epoch 34/60\n",
            "2464/2464 [==============================] - 5s 2ms/step - loss: 0.3695 - acc: 0.8795 - val_loss: 0.3057 - val_acc: 0.9107\n",
            "Epoch 35/60\n",
            "2464/2464 [==============================] - 5s 2ms/step - loss: 0.3686 - acc: 0.8795 - val_loss: 0.3050 - val_acc: 0.9107\n",
            "Epoch 36/60\n",
            "2464/2464 [==============================] - 5s 2ms/step - loss: 0.3684 - acc: 0.8795 - val_loss: 0.3047 - val_acc: 0.9107\n",
            "Epoch 37/60\n",
            "2464/2464 [==============================] - 5s 2ms/step - loss: 0.3684 - acc: 0.8795 - val_loss: 0.3076 - val_acc: 0.9107\n",
            "Epoch 38/60\n",
            "2464/2464 [==============================] - 5s 2ms/step - loss: 0.3691 - acc: 0.8795 - val_loss: 0.3058 - val_acc: 0.9107\n",
            "Epoch 39/60\n",
            "2464/2464 [==============================] - 5s 2ms/step - loss: 0.3687 - acc: 0.8795 - val_loss: 0.3054 - val_acc: 0.9107\n",
            "Epoch 40/60\n",
            "2464/2464 [==============================] - 5s 2ms/step - loss: 0.3686 - acc: 0.8795 - val_loss: 0.3055 - val_acc: 0.9107\n",
            "Epoch 41/60\n",
            "2464/2464 [==============================] - 5s 2ms/step - loss: 0.3682 - acc: 0.8795 - val_loss: 0.3077 - val_acc: 0.9107\n",
            "Epoch 42/60\n",
            "2464/2464 [==============================] - 5s 2ms/step - loss: 0.3686 - acc: 0.8795 - val_loss: 0.3056 - val_acc: 0.9107\n",
            "Epoch 43/60\n",
            "2464/2464 [==============================] - 5s 2ms/step - loss: 0.3684 - acc: 0.8795 - val_loss: 0.3053 - val_acc: 0.9107\n",
            "Epoch 44/60\n",
            "2464/2464 [==============================] - 5s 2ms/step - loss: 0.3685 - acc: 0.8795 - val_loss: 0.3055 - val_acc: 0.9107\n",
            "Epoch 45/60\n",
            "2464/2464 [==============================] - 5s 2ms/step - loss: 0.3689 - acc: 0.8795 - val_loss: 0.3088 - val_acc: 0.9107\n",
            "Epoch 46/60\n",
            "2464/2464 [==============================] - 5s 2ms/step - loss: 0.3686 - acc: 0.8795 - val_loss: 0.3069 - val_acc: 0.9107\n",
            "Epoch 47/60\n",
            "2464/2464 [==============================] - 5s 2ms/step - loss: 0.3685 - acc: 0.8795 - val_loss: 0.3054 - val_acc: 0.9107\n",
            "Epoch 48/60\n",
            "2464/2464 [==============================] - 5s 2ms/step - loss: 0.3684 - acc: 0.8795 - val_loss: 0.3074 - val_acc: 0.9107\n",
            "Epoch 49/60\n",
            "2464/2464 [==============================] - 5s 2ms/step - loss: 0.3686 - acc: 0.8795 - val_loss: 0.3061 - val_acc: 0.9107\n",
            "Epoch 50/60\n",
            "2464/2464 [==============================] - 5s 2ms/step - loss: 0.3685 - acc: 0.8795 - val_loss: 0.3072 - val_acc: 0.9107\n",
            "Epoch 51/60\n",
            "2464/2464 [==============================] - 5s 2ms/step - loss: 0.3683 - acc: 0.8795 - val_loss: 0.3057 - val_acc: 0.9107\n",
            "Epoch 52/60\n",
            "2464/2464 [==============================] - 5s 2ms/step - loss: 0.3684 - acc: 0.8795 - val_loss: 0.3067 - val_acc: 0.9107\n",
            "Epoch 53/60\n",
            "2464/2464 [==============================] - 5s 2ms/step - loss: 0.3684 - acc: 0.8795 - val_loss: 0.3060 - val_acc: 0.9107\n",
            "Epoch 54/60\n",
            "2464/2464 [==============================] - 5s 2ms/step - loss: 0.3683 - acc: 0.8795 - val_loss: 0.3066 - val_acc: 0.9107\n",
            "Epoch 55/60\n",
            "2464/2464 [==============================] - 5s 2ms/step - loss: 0.3682 - acc: 0.8795 - val_loss: 0.3057 - val_acc: 0.9107\n",
            "Epoch 56/60\n",
            "2464/2464 [==============================] - 5s 2ms/step - loss: 0.3681 - acc: 0.8795 - val_loss: 0.3065 - val_acc: 0.9107\n",
            "Epoch 57/60\n",
            "2464/2464 [==============================] - 5s 2ms/step - loss: 0.3685 - acc: 0.8795 - val_loss: 0.3066 - val_acc: 0.9107\n",
            "Epoch 58/60\n",
            "2464/2464 [==============================] - 5s 2ms/step - loss: 0.3684 - acc: 0.8795 - val_loss: 0.3058 - val_acc: 0.9107\n",
            "Epoch 59/60\n",
            "2464/2464 [==============================] - 5s 2ms/step - loss: 0.3682 - acc: 0.8795 - val_loss: 0.3064 - val_acc: 0.9107\n",
            "Epoch 60/60\n",
            "2464/2464 [==============================] - 5s 2ms/step - loss: 0.3684 - acc: 0.8795 - val_loss: 0.3060 - val_acc: 0.9107\n"
          ],
          "name": "stdout"
        }
      ]
    },
    {
      "metadata": {
        "id": "lar239WoG588"
      },
      "cell_type": "markdown",
      "source": [
        "### Testing LSTM and plotting"
      ]
    },
    {
      "metadata": {
        "id": "bnFzlqvZGIv2",
        "colab": {
          "base_uri": "https://localhost:8080/",
          "height": 345
        },
        "outputId": "467e1a95-97da-4fd5-b017-2a3b90f38b75"
      },
      "cell_type": "code",
      "source": [
        "acc = lstm_b.test_and_plot(tst_data_clean_nn_b,tst_labels_nn_b)\n",
        "print('LSTM',acc)"
      ],
      "execution_count": null,
      "outputs": [
        {
          "output_type": "display_data",
          "data": {
            "image/png": "[encoded data removed]",
            "text/plain": [
              "<matplotlib.figure.Figure at 0x7f7ab9dbaba8>"
            ]
          },
          "metadata": {
            "tags": []
          }
        },
        {
          "output_type": "stream",
          "text": [
            "1320/1320 [==============================] - 1s 511us/step\n",
            "LSTM (['loss', 'acc'], [0.3875281375465971, 0.8696969704194503])\n"
          ],
          "name": "stdout"
        }
      ]
    },
    {
      "metadata": {
        "id": "b4GRCnO0G8fC"
      },
      "cell_type": "markdown",
      "source": [
        "### Training CNN"
      ]
    },
    {
      "metadata": {
        "id": "9Y3LjCS95uJJ",
        "colab": {
          "base_uri": "https://localhost:8080/",
          "height": 799
        },
        "outputId": "23880f76-229f-424c-9c92-ae3a5239e010"
      },
      "cell_type": "code",
      "source": [
        "cnn_b = DeepLearner(tr_data_clean_nn_b,tr_labels_nn_b,vocab_length=vct.vocab_length,model_type='CNN')\n",
        "cnn_b.train(epochs=10)"
      ],
      "execution_count": null,
      "outputs": [
        {
          "output_type": "stream",
          "text": [
            "_________________________________________________________________\n",
            "Layer (type)                 Output Shape              Param #   \n",
            "=================================================================\n",
            "embedding_10 (Embedding)     (None, 41, 30)            194340    \n",
            "_________________________________________________________________\n",
            "conv1d_10 (Conv1D)           (None, 37, 64)            9664      \n",
            "_________________________________________________________________\n",
            "dropout_7 (Dropout)          (None, 37, 64)            0         \n",
            "_________________________________________________________________\n",
            "conv1d_11 (Conv1D)           (None, 35, 32)            6176      \n",
            "_________________________________________________________________\n",
            "dropout_8 (Dropout)          (None, 35, 32)            0         \n",
            "_________________________________________________________________\n",
            "conv1d_12 (Conv1D)           (None, 33, 16)            1552      \n",
            "_________________________________________________________________\n",
            "max_pooling1d_4 (MaxPooling1 (None, 6, 16)             0         \n",
            "_________________________________________________________________\n",
            "flatten_4 (Flatten)          (None, 96)                0         \n",
            "_________________________________________________________________\n",
            "dense_16 (Dense)             (None, 2)                 194       \n",
            "=================================================================\n",
            "Total params: 211,926\n",
            "Trainable params: 211,926\n",
            "Non-trainable params: 0\n",
            "_________________________________________________________________\n",
            "Train on 2464 samples, validate on 616 samples\n",
            "Epoch 1/10\n",
            "2464/2464 [==============================] - 3s 1ms/step - loss: 0.3943 - acc: 0.8795 - val_loss: 0.3081 - val_acc: 0.9107\n",
            "Epoch 2/10\n",
            "2464/2464 [==============================] - 1s 352us/step - loss: 0.3679 - acc: 0.8795 - val_loss: 0.3035 - val_acc: 0.9107\n",
            "Epoch 3/10\n",
            "2464/2464 [==============================] - 1s 346us/step - loss: 0.3624 - acc: 0.8795 - val_loss: 0.2981 - val_acc: 0.9107\n",
            "Epoch 4/10\n",
            "2464/2464 [==============================] - 1s 350us/step - loss: 0.3377 - acc: 0.8795 - val_loss: 0.2911 - val_acc: 0.9107\n",
            "Epoch 5/10\n",
            "2464/2464 [==============================] - 1s 351us/step - loss: 0.2932 - acc: 0.8795 - val_loss: 0.2959 - val_acc: 0.9107\n",
            "Epoch 6/10\n",
            "2464/2464 [==============================] - 1s 357us/step - loss: 0.2565 - acc: 0.8795 - val_loss: 0.3020 - val_acc: 0.9107\n",
            "Epoch 7/10\n",
            "2464/2464 [==============================] - 1s 349us/step - loss: 0.2217 - acc: 0.8839 - val_loss: 0.3036 - val_acc: 0.9107\n",
            "Epoch 8/10\n",
            "2464/2464 [==============================] - 1s 348us/step - loss: 0.1626 - acc: 0.9265 - val_loss: 0.3273 - val_acc: 0.8977\n",
            "Epoch 9/10\n",
            "2464/2464 [==============================] - 1s 350us/step - loss: 0.1209 - acc: 0.9533 - val_loss: 0.3773 - val_acc: 0.8506\n",
            "Epoch 10/10\n",
            "2464/2464 [==============================] - 1s 345us/step - loss: 0.1022 - acc: 0.9586 - val_loss: 0.3921 - val_acc: 0.8523\n"
          ],
          "name": "stdout"
        }
      ]
    },
    {
      "metadata": {
        "id": "rDrIH-qBG_VR"
      },
      "cell_type": "markdown",
      "source": [
        "### Testing CNN and plotting"
      ]
    },
    {
      "metadata": {
        "id": "gr2Z2DrEGK5R",
        "colab": {
          "base_uri": "https://localhost:8080/",
          "height": 345
        },
        "outputId": "d5d7257e-f7a3-4258-c72b-d2f954761825"
      },
      "cell_type": "code",
      "source": [
        "acc = cnn_b.test_and_plot(tst_data_clean_nn_b,tst_labels_nn_b)\n",
        "print('CNN',acc)"
      ],
      "execution_count": null,
      "outputs": [
        {
          "output_type": "display_data",
          "data": {
            "image/png": "[encoded data removed]",
            "text/plain": [
              "<matplotlib.figure.Figure at 0x7f7aa789d048>"
            ]
          },
          "metadata": {
            "tags": []
          }
        },
        {
          "output_type": "stream",
          "text": [
            "1320/1320 [==============================] - 0s 92us/step\n",
            "CNN (['loss', 'acc'], [0.5748191519217057, 0.8287878795103594])\n"
          ],
          "name": "stdout"
        }
      ]
    },
    {
      "metadata": {
        "id": "B9JEFada6NkO"
      },
      "cell_type": "markdown",
      "source": [
        "## Subtask C"
      ]
    },
    {
      "metadata": {
        "id": "UkR-jWKPHSeI"
      },
      "cell_type": "markdown",
      "source": [
        "### Reading data and cleaning"
      ]
    },
    {
      "metadata": {
        "id": "-dxUOw646NkP"
      },
      "cell_type": "code",
      "source": [
        "dr_nn_c = DataReader('./datasets/training-v1/offenseval-training-v1.tsv','C')\n",
        "data_nn_c,labels_nn_c = dr_nn_c.get_labelled_data()\n",
        "data_nn_c,labels_nn_c = dr_nn_c.shuffle(data_nn_c,labels_nn_c,'random')\n",
        "\n",
        "tr_data_nn_c,tst_data_nn_c,tr_labels_nn_c,tst_labels_nn_c = split(data_nn_c,labels_nn_c,test_size=0.3)\n",
        "\n",
        "prp = Preprocessor('remove_stopwords','lemmatize')\n",
        "tr_data_clean_nn_c = prp.clean(tr_data_nn_c)\n",
        "tst_data_clean_nn_c = prp.clean(tst_data_nn_c)\n",
        "\n",
        "vct = Vectorizer('count')\n",
        "vct.vectorize(tr_data_clean_nn_c)"
      ],
      "execution_count": null,
      "outputs": []
    },
    {
      "metadata": {
        "id": "V4vHk7nXHF4Y"
      },
      "cell_type": "markdown",
      "source": [
        "### Training LSTM"
      ]
    },
    {
      "metadata": {
        "id": "7UXR5pG66NkR",
        "colab": {
          "base_uri": "https://localhost:8080/",
          "height": 2329
        },
        "outputId": "3150a3de-6eee-40e4-8b06-52e7a9235456"
      },
      "cell_type": "code",
      "source": [
        "lstm_c = DeepLearner(tr_data_clean_nn_c,tr_labels_nn_c,vocab_length=vct.vocab_length,model_type='LSTM')\n",
        "lstm_c.train(epochs=60)"
      ],
      "execution_count": null,
      "outputs": [
        {
          "output_type": "stream",
          "text": [
            "_________________________________________________________________\n",
            "Layer (type)                 Output Shape              Param #   \n",
            "=================================================================\n",
            "embedding_8 (Embedding)      (None, 34, 30)            194340    \n",
            "_________________________________________________________________\n",
            "lstm_6 (LSTM)                (None, 200)               184800    \n",
            "_________________________________________________________________\n",
            "dense_13 (Dense)             (None, 34)                6834      \n",
            "_________________________________________________________________\n",
            "dense_14 (Dense)             (None, 3)                 105       \n",
            "=================================================================\n",
            "Total params: 386,079\n",
            "Trainable params: 386,079\n",
            "Non-trainable params: 0\n",
            "_________________________________________________________________\n",
            "Train on 2170 samples, validate on 543 samples\n",
            "Epoch 1/60\n",
            "2170/2170 [==============================] - 6s 3ms/step - loss: 10.4619 - acc: 0.6166 - val_loss: 1.7580 - val_acc: 0.6280\n",
            "Epoch 2/60\n",
            "2170/2170 [==============================] - 4s 2ms/step - loss: 1.1254 - acc: 0.6166 - val_loss: 0.9404 - val_acc: 0.6280\n",
            "Epoch 3/60\n",
            "2170/2170 [==============================] - 4s 2ms/step - loss: 0.9152 - acc: 0.6166 - val_loss: 0.9056 - val_acc: 0.6280\n",
            "Epoch 4/60\n",
            "2170/2170 [==============================] - 4s 2ms/step - loss: 0.9092 - acc: 0.6166 - val_loss: 0.8984 - val_acc: 0.6280\n",
            "Epoch 5/60\n",
            "2170/2170 [==============================] - 4s 2ms/step - loss: 0.8951 - acc: 0.6166 - val_loss: 0.8938 - val_acc: 0.6280\n",
            "Epoch 6/60\n",
            "2170/2170 [==============================] - 4s 2ms/step - loss: 0.8914 - acc: 0.6166 - val_loss: 0.8912 - val_acc: 0.6280\n",
            "Epoch 7/60\n",
            "2170/2170 [==============================] - 4s 2ms/step - loss: 0.8860 - acc: 0.6166 - val_loss: 0.8886 - val_acc: 0.6280\n",
            "Epoch 8/60\n",
            "2170/2170 [==============================] - 4s 2ms/step - loss: 0.8859 - acc: 0.6166 - val_loss: 0.8906 - val_acc: 0.6280\n",
            "Epoch 9/60\n",
            "2170/2170 [==============================] - 4s 2ms/step - loss: 0.8843 - acc: 0.6166 - val_loss: 0.8899 - val_acc: 0.6280\n",
            "Epoch 10/60\n",
            "2170/2170 [==============================] - 4s 2ms/step - loss: 0.8847 - acc: 0.6166 - val_loss: 0.8898 - val_acc: 0.6280\n",
            "Epoch 11/60\n",
            "2170/2170 [==============================] - 4s 2ms/step - loss: 0.8849 - acc: 0.6166 - val_loss: 0.8875 - val_acc: 0.6280\n",
            "Epoch 12/60\n",
            "2170/2170 [==============================] - 4s 2ms/step - loss: 0.8850 - acc: 0.6166 - val_loss: 0.8923 - val_acc: 0.6280\n",
            "Epoch 13/60\n",
            "2170/2170 [==============================] - 4s 2ms/step - loss: 0.8836 - acc: 0.6166 - val_loss: 0.8860 - val_acc: 0.6280\n",
            "Epoch 14/60\n",
            "2170/2170 [==============================] - 4s 2ms/step - loss: 0.8817 - acc: 0.6166 - val_loss: 0.8871 - val_acc: 0.6280\n",
            "Epoch 15/60\n",
            "2170/2170 [==============================] - 4s 2ms/step - loss: 0.8825 - acc: 0.6166 - val_loss: 0.8891 - val_acc: 0.6280\n",
            "Epoch 16/60\n",
            "2170/2170 [==============================] - 4s 2ms/step - loss: 0.8823 - acc: 0.6166 - val_loss: 0.8935 - val_acc: 0.6280\n",
            "Epoch 17/60\n",
            "2170/2170 [==============================] - 4s 2ms/step - loss: 0.8817 - acc: 0.6166 - val_loss: 0.8871 - val_acc: 0.6280\n",
            "Epoch 18/60\n",
            "2170/2170 [==============================] - 4s 2ms/step - loss: 0.8822 - acc: 0.6166 - val_loss: 0.8875 - val_acc: 0.6280\n",
            "Epoch 19/60\n",
            "2170/2170 [==============================] - 4s 2ms/step - loss: 0.8824 - acc: 0.6166 - val_loss: 0.8857 - val_acc: 0.6280\n",
            "Epoch 20/60\n",
            "2170/2170 [==============================] - 4s 2ms/step - loss: 0.8814 - acc: 0.6166 - val_loss: 0.8868 - val_acc: 0.6280\n",
            "Epoch 21/60\n",
            "2170/2170 [==============================] - 4s 2ms/step - loss: 0.8808 - acc: 0.6166 - val_loss: 0.8887 - val_acc: 0.6280\n",
            "Epoch 22/60\n",
            "2170/2170 [==============================] - 4s 2ms/step - loss: 0.8804 - acc: 0.6166 - val_loss: 0.8877 - val_acc: 0.6280\n",
            "Epoch 23/60\n",
            "2170/2170 [==============================] - 4s 2ms/step - loss: 0.8807 - acc: 0.6166 - val_loss: 0.8861 - val_acc: 0.6280\n",
            "Epoch 24/60\n",
            "2170/2170 [==============================] - 4s 2ms/step - loss: 0.8806 - acc: 0.6166 - val_loss: 0.8865 - val_acc: 0.6280\n",
            "Epoch 25/60\n",
            "2170/2170 [==============================] - 4s 2ms/step - loss: 0.8813 - acc: 0.6166 - val_loss: 0.8903 - val_acc: 0.6280\n",
            "Epoch 26/60\n",
            "2170/2170 [==============================] - 4s 2ms/step - loss: 0.8821 - acc: 0.6166 - val_loss: 0.8868 - val_acc: 0.6280\n",
            "Epoch 27/60\n",
            "2170/2170 [==============================] - 4s 2ms/step - loss: 0.8808 - acc: 0.6166 - val_loss: 0.8867 - val_acc: 0.6280\n",
            "Epoch 28/60\n",
            "2170/2170 [==============================] - 4s 2ms/step - loss: 0.8809 - acc: 0.6166 - val_loss: 0.8869 - val_acc: 0.6280\n",
            "Epoch 29/60\n",
            "2170/2170 [==============================] - 4s 2ms/step - loss: 0.8810 - acc: 0.6166 - val_loss: 0.8868 - val_acc: 0.6280\n",
            "Epoch 30/60\n",
            "2170/2170 [==============================] - 4s 2ms/step - loss: 0.8812 - acc: 0.6166 - val_loss: 0.8873 - val_acc: 0.6280\n",
            "Epoch 31/60\n",
            "2170/2170 [==============================] - 4s 2ms/step - loss: 0.8804 - acc: 0.6166 - val_loss: 0.8880 - val_acc: 0.6280\n",
            "Epoch 32/60\n",
            "2170/2170 [==============================] - 4s 2ms/step - loss: 0.8805 - acc: 0.6166 - val_loss: 0.8869 - val_acc: 0.6280\n",
            "Epoch 33/60\n",
            "2170/2170 [==============================] - 4s 2ms/step - loss: 0.8802 - acc: 0.6166 - val_loss: 0.8868 - val_acc: 0.6280\n",
            "Epoch 34/60\n",
            "2170/2170 [==============================] - 4s 2ms/step - loss: 0.8811 - acc: 0.6166 - val_loss: 0.8876 - val_acc: 0.6280\n",
            "Epoch 35/60\n",
            "2170/2170 [==============================] - 4s 2ms/step - loss: 0.8805 - acc: 0.6166 - val_loss: 0.8876 - val_acc: 0.6280\n",
            "Epoch 36/60\n",
            "2170/2170 [==============================] - 4s 2ms/step - loss: 0.8808 - acc: 0.6166 - val_loss: 0.8871 - val_acc: 0.6280\n",
            "Epoch 37/60\n",
            "2170/2170 [==============================] - 4s 2ms/step - loss: 0.8812 - acc: 0.6166 - val_loss: 0.8866 - val_acc: 0.6280\n",
            "Epoch 38/60\n",
            "2170/2170 [==============================] - 4s 2ms/step - loss: 0.8802 - acc: 0.6166 - val_loss: 0.8881 - val_acc: 0.6280\n",
            "Epoch 39/60\n",
            "2170/2170 [==============================] - 4s 2ms/step - loss: 0.8805 - acc: 0.6166 - val_loss: 0.8868 - val_acc: 0.6280\n",
            "Epoch 40/60\n",
            "2170/2170 [==============================] - 4s 2ms/step - loss: 0.8800 - acc: 0.6166 - val_loss: 0.8876 - val_acc: 0.6280\n",
            "Epoch 41/60\n",
            "2170/2170 [==============================] - 4s 2ms/step - loss: 0.8801 - acc: 0.6166 - val_loss: 0.8869 - val_acc: 0.6280\n",
            "Epoch 42/60\n",
            "2170/2170 [==============================] - 4s 2ms/step - loss: 0.8804 - acc: 0.6166 - val_loss: 0.8870 - val_acc: 0.6280\n",
            "Epoch 43/60\n",
            "2170/2170 [==============================] - 4s 2ms/step - loss: 0.8805 - acc: 0.6166 - val_loss: 0.8874 - val_acc: 0.6280\n",
            "Epoch 44/60\n",
            "2170/2170 [==============================] - 4s 2ms/step - loss: 0.8804 - acc: 0.6166 - val_loss: 0.8874 - val_acc: 0.6280\n",
            "Epoch 45/60\n",
            "2170/2170 [==============================] - 4s 2ms/step - loss: 0.8805 - acc: 0.6166 - val_loss: 0.8872 - val_acc: 0.6280\n",
            "Epoch 46/60\n",
            "2170/2170 [==============================] - 4s 2ms/step - loss: 0.8803 - acc: 0.6166 - val_loss: 0.8873 - val_acc: 0.6280\n",
            "Epoch 47/60\n",
            "2170/2170 [==============================] - 4s 2ms/step - loss: 0.8805 - acc: 0.6166 - val_loss: 0.8870 - val_acc: 0.6280\n",
            "Epoch 48/60\n",
            "2170/2170 [==============================] - 4s 2ms/step - loss: 0.8805 - acc: 0.6166 - val_loss: 0.8873 - val_acc: 0.6280\n",
            "Epoch 49/60\n",
            "2170/2170 [==============================] - 4s 2ms/step - loss: 0.8802 - acc: 0.6166 - val_loss: 0.8869 - val_acc: 0.6280\n",
            "Epoch 50/60\n",
            "2170/2170 [==============================] - 4s 2ms/step - loss: 0.8800 - acc: 0.6166 - val_loss: 0.8868 - val_acc: 0.6280\n",
            "Epoch 51/60\n",
            "2170/2170 [==============================] - 4s 2ms/step - loss: 0.8800 - acc: 0.6166 - val_loss: 0.8866 - val_acc: 0.6280\n",
            "Epoch 52/60\n",
            "2170/2170 [==============================] - 4s 2ms/step - loss: 0.8800 - acc: 0.6166 - val_loss: 0.8872 - val_acc: 0.6280\n",
            "Epoch 53/60\n",
            "2170/2170 [==============================] - 4s 2ms/step - loss: 0.8801 - acc: 0.6166 - val_loss: 0.8873 - val_acc: 0.6280\n",
            "Epoch 54/60\n",
            "2170/2170 [==============================] - 4s 2ms/step - loss: 0.8806 - acc: 0.6166 - val_loss: 0.8869 - val_acc: 0.6280\n",
            "Epoch 55/60\n",
            "2170/2170 [==============================] - 4s 2ms/step - loss: 0.8804 - acc: 0.6166 - val_loss: 0.8874 - val_acc: 0.6280\n",
            "Epoch 56/60\n",
            "2170/2170 [==============================] - 4s 2ms/step - loss: 0.8800 - acc: 0.6166 - val_loss: 0.8867 - val_acc: 0.6280\n",
            "Epoch 57/60\n",
            "2170/2170 [==============================] - 4s 2ms/step - loss: 0.8803 - acc: 0.6166 - val_loss: 0.8871 - val_acc: 0.6280\n",
            "Epoch 58/60\n",
            "2170/2170 [==============================] - 4s 2ms/step - loss: 0.8802 - acc: 0.6166 - val_loss: 0.8871 - val_acc: 0.6280\n",
            "Epoch 59/60\n",
            "2170/2170 [==============================] - 4s 2ms/step - loss: 0.8803 - acc: 0.6166 - val_loss: 0.8873 - val_acc: 0.6280\n",
            "Epoch 60/60\n",
            "2170/2170 [==============================] - 4s 2ms/step - loss: 0.8802 - acc: 0.6166 - val_loss: 0.8875 - val_acc: 0.6280\n"
          ],
          "name": "stdout"
        }
      ]
    },
    {
      "metadata": {
        "id": "PQhFvMAwHHww"
      },
      "cell_type": "markdown",
      "source": [
        "### Testing LSTM and plotting"
      ]
    },
    {
      "metadata": {
        "id": "tsO4GUnXHDbF",
        "colab": {
          "base_uri": "https://localhost:8080/",
          "height": 345
        },
        "outputId": "b9013848-a5ba-4006-b6ad-baeef445a617"
      },
      "cell_type": "code",
      "source": [
        "acc = lstm_c.test_and_plot(tst_data_clean_nn_c,tst_labels_nn_c,3)\n",
        "print('LSTM',acc)"
      ],
      "execution_count": null,
      "outputs": [
        {
          "output_type": "display_data",
          "data": {
            "image/png": "[encoded data removed]",
            "text/plain": [
              "<matplotlib.figure.Figure at 0x7f7aaa1c5400>"
            ]
          },
          "metadata": {
            "tags": []
          }
        },
        {
          "output_type": "stream",
          "text": [
            "1163/1163 [==============================] - 1s 456us/step\n",
            "LSTM (['loss', 'acc'], [0.8934729131049158, 0.6259673260863444])\n"
          ],
          "name": "stdout"
        }
      ]
    },
    {
      "metadata": {
        "id": "zbznpOehHL-8"
      },
      "cell_type": "markdown",
      "source": [
        "### Training CNN"
      ]
    },
    {
      "metadata": {
        "id": "-qXiiUM_6NkU",
        "colab": {
          "base_uri": "https://localhost:8080/",
          "height": 799
        },
        "outputId": "7af7480c-6a9c-4b8c-8465-bb2b4bad1171"
      },
      "cell_type": "code",
      "source": [
        "cnn_c = DeepLearner(tr_data_clean_nn_c,tr_labels_nn_c,vocab_length=vct.vocab_length,model_type='CNN')\n",
        "cnn_c.train(epochs=10)"
      ],
      "execution_count": null,
      "outputs": [
        {
          "output_type": "stream",
          "text": [
            "_________________________________________________________________\n",
            "Layer (type)                 Output Shape              Param #   \n",
            "=================================================================\n",
            "embedding_11 (Embedding)     (None, 34, 30)            194340    \n",
            "_________________________________________________________________\n",
            "conv1d_13 (Conv1D)           (None, 30, 64)            9664      \n",
            "_________________________________________________________________\n",
            "dropout_9 (Dropout)          (None, 30, 64)            0         \n",
            "_________________________________________________________________\n",
            "conv1d_14 (Conv1D)           (None, 28, 32)            6176      \n",
            "_________________________________________________________________\n",
            "dropout_10 (Dropout)         (None, 28, 32)            0         \n",
            "_________________________________________________________________\n",
            "conv1d_15 (Conv1D)           (None, 26, 16)            1552      \n",
            "_________________________________________________________________\n",
            "max_pooling1d_5 (MaxPooling1 (None, 5, 16)             0         \n",
            "_________________________________________________________________\n",
            "flatten_5 (Flatten)          (None, 80)                0         \n",
            "_________________________________________________________________\n",
            "dense_17 (Dense)             (None, 3)                 243       \n",
            "=================================================================\n",
            "Total params: 211,975\n",
            "Trainable params: 211,975\n",
            "Non-trainable params: 0\n",
            "_________________________________________________________________\n",
            "Train on 2170 samples, validate on 543 samples\n",
            "Epoch 1/10\n",
            "2170/2170 [==============================] - 3s 1ms/step - loss: 1.1715 - acc: 0.4779 - val_loss: 0.8967 - val_acc: 0.6280\n",
            "Epoch 2/10\n",
            "2170/2170 [==============================] - 1s 334us/step - loss: 0.8796 - acc: 0.6166 - val_loss: 0.8804 - val_acc: 0.6280\n",
            "Epoch 3/10\n",
            "2170/2170 [==============================] - 1s 323us/step - loss: 0.8618 - acc: 0.6166 - val_loss: 0.8708 - val_acc: 0.6280\n",
            "Epoch 4/10\n",
            "2170/2170 [==============================] - 1s 324us/step - loss: 0.8286 - acc: 0.6346 - val_loss: 0.8582 - val_acc: 0.6519\n",
            "Epoch 5/10\n",
            "2170/2170 [==============================] - 1s 321us/step - loss: 0.7483 - acc: 0.7207 - val_loss: 0.8508 - val_acc: 0.6243\n",
            "Epoch 6/10\n",
            "2170/2170 [==============================] - 1s 322us/step - loss: 0.6434 - acc: 0.7811 - val_loss: 0.8677 - val_acc: 0.6354\n",
            "Epoch 7/10\n",
            "2170/2170 [==============================] - 1s 322us/step - loss: 0.5576 - acc: 0.8152 - val_loss: 0.8973 - val_acc: 0.6317\n",
            "Epoch 8/10\n",
            "2170/2170 [==============================] - 1s 322us/step - loss: 0.5025 - acc: 0.8336 - val_loss: 0.9295 - val_acc: 0.6298\n",
            "Epoch 9/10\n",
            "2170/2170 [==============================] - 1s 320us/step - loss: 0.4557 - acc: 0.8493 - val_loss: 0.9785 - val_acc: 0.6280\n",
            "Epoch 10/10\n",
            "2170/2170 [==============================] - 1s 318us/step - loss: 0.4082 - acc: 0.8641 - val_loss: 1.0577 - val_acc: 0.6077\n"
          ],
          "name": "stdout"
        }
      ]
    },
    {
      "metadata": {
        "id": "21JpwRsLHNSm"
      },
      "cell_type": "markdown",
      "source": [
        "### Testing CNN and plotting"
      ]
    },
    {
      "metadata": {
        "id": "oUJkJvi4HD-i",
        "colab": {
          "base_uri": "https://localhost:8080/",
          "height": 345
        },
        "outputId": "fa08c8ae-7efa-49c1-c312-8afb39539b8a"
      },
      "cell_type": "code",
      "source": [
        "acc = cnn_c.test_and_plot(tst_data_clean_nn_c,tst_labels_nn_c,3)\n",
        "print('CNN',acc)"
      ],
      "execution_count": null,
      "outputs": [
        {
          "output_type": "display_data",
          "data": {
            "image/png": "[encoded data removed]",
            "text/plain": [
              "<matplotlib.figure.Figure at 0x7f7aa7b75d68>"
            ]
          },
          "metadata": {
            "tags": []
          }
        },
        {
          "output_type": "stream",
          "text": [
            "1163/1163 [==============================] - 0s 94us/step\n",
            "CNN (['loss', 'acc'], [1.0960564766069578, 0.5700773862242596])\n"
          ],
          "name": "stdout"
        }
      ]
    }
  ]
}